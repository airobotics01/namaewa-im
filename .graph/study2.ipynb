{
 "cells": [
  {
   "cell_type": "markdown",
   "metadata": {},
   "source": [
    "### Conditional Edge가 포함된 LangGraph"
   ]
  },
  {
   "cell_type": "code",
   "execution_count": 38,
   "metadata": {},
   "outputs": [
    {
     "data": {
      "text/plain": [
       "'\\nfrom typing import Literal\\n\\n\\ndef check_user_input(state: State) -> Literal[\"question\", \"command\", \"unknown\"]:\\n\\n    if state[\"input\"].endswith(\"?\"):\\n        return \"question\"\\n    elif state[\"input\"].startswith(\"/\"):\\n        return \"command\"\\n    else:\\n        return \"unknown\"\\n\\nworkflow.add_conditional_edges(\\n    \"parse_user_input\",\\n    check_user_input,\\n    {\\n        \"question\": \"answer_question\",\\n        \"command\": \"execute_command\",\\n        \"unknown\": \"ask_clarification\"\\n    }\\n}\\n'"
      ]
     },
     "execution_count": 38,
     "metadata": {},
     "output_type": "execute_result"
    }
   ],
   "source": [
    "'''\n",
    "workflow = StateGraph(State)\n",
    "\n",
    "workflow.add_conditional_edges(\n",
    "    \"source_node\",\n",
    "    condition_function,\n",
    "    (\n",
    "        \"condition1\": \"target_node1\",\n",
    "        \"condition2\": \"target_node2\",\n",
    "        \"default\": END\n",
    "    )\n",
    ")\n",
    "'''\n",
    "# source_node에서 condition_function을 실행하여 반환된 결과에 따라 \n",
    "# target_node1, target_node2, END로 이동한다.\n",
    "\n",
    "# condition_function은 현재 상태를 평가하고 다음에 어떤 노드로 이동할지\n",
    "# 결정하는 함수이다. State를 받아 문자열 또는 Enum 값을 반환한다. 이 값은 다음 노드를 결정한다.\n",
    "\n",
    "# condition_function은 다음과 같이 정의된다.\n",
    "\n",
    "'''\n",
    "from typing import Literal\n",
    "\n",
    "\n",
    "def check_user_input(state: State) -> Literal[\"question\", \"command\", \"unknown\"]:\n",
    "\n",
    "    if state[\"input\"].endswith(\"?\"):\n",
    "        return \"question\"\n",
    "    elif state[\"input\"].startswith(\"/\"):\n",
    "        return \"command\"\n",
    "    else:\n",
    "        return \"unknown\"\n",
    "\n",
    "workflow.add_conditional_edges(\n",
    "    \"parse_user_input\",\n",
    "    check_user_input,\n",
    "    {\n",
    "        \"question\": \"answer_question\",\n",
    "        \"command\": \"execute_command\",\n",
    "        \"unknown\": \"ask_clarification\"\n",
    "    }\n",
    "}\n",
    "'''\n",
    "# check_user_input 함수는 input이 물음표로 끝나면 \"question\"을 반환하고, \n",
    "# 느낌표로 끝나면 \"command\"를 반환하고 그 외에는 \"unknown\"을 반환한다.\n"
   ]
  },
  {
   "cell_type": "code",
   "execution_count": 41,
   "metadata": {},
   "outputs": [],
   "source": [
    "from typing import Literal, Optional, TypedDict\n",
    "from langgraph.graph import StateGraph, START, END\n",
    "\n",
    "\n",
    "# 사용자 쿼리에서 위치 정보 추출 (in 뒤에 위치 정보가 있다고 가정)\n",
    "def extract_location(query: str) -> Optional[str]:\n",
    "    words = query.split()\n",
    "    \n",
    "    if \"in\" in query:\n",
    "        index = words.index(\"in\")\n",
    "        if index + 1 < len(words):\n",
    "            return words[index + 1]\n",
    "    return None\n",
    "\n",
    "\n",
    "# 위치 이름이 3글자 미만인 경우 위치 정보가 모호하다고 판단\n",
    "def is_ambiguous(location: str) -> bool:\n",
    "    return len(location) < 3\n",
    "\n",
    "# 주어진 위치에 대한 날씨 정보 제공\n",
    "def fetch_weather_data(location: str) -> str:\n",
    "\n",
    "    weather_data = {\n",
    "        \"Seoul\": \"sunny, 25°C\",\n",
    "        \"New York\": \"cloudy, 18°C\",\n",
    "        \"London\": \"rainy, 12°C\"\n",
    "    }\n",
    "\n",
    "    return weather_data.get(location, \"Weather data not available\")\n",
    "\n",
    "# 모호한 입력에 대해 사용자에게 추가 정보 요청\n",
    "def generate_location_clarification(location: str) -> str:\n",
    "    return f\"There are no data with {location}. Please provide a more specific location.\"\n",
    "\n",
    "# 날씨 정보 응답 생성\n",
    "def format_weather_response(location: str, forecast: str) -> str:\n",
    "    return f\"The weather in {location} is {forecast}.\"\n"
   ]
  },
  {
   "cell_type": "code",
   "execution_count": 42,
   "metadata": {},
   "outputs": [],
   "source": [
    "# 1. 상태 정의\n",
    "\n",
    "# 랭그래프의 각 단계에서 사용되는 데이터 구조 정의\n",
    "class WeatherState(TypedDict):\n",
    "    query: str\n",
    "    location: Optional[str]\n",
    "    forecast: Optional[str]\n",
    "\n",
    "# query: 사용자의 입력\n",
    "# location: 추출된 위치 정보\n",
    "# forecast: 가져온 날씨 정보\n",
    "\n",
    "# 2. 노드 정의\n",
    "\n",
    "# parse_query: 사용자 쿼리에서 위치 정보를 추출합니다.\n",
    "def parse_query(state: WeatherState):\n",
    "    location = extract_location(state[\"query\"])\n",
    "    return {\"location\": location}\n",
    "\n",
    "# get_forecast: 주어진 위치에 대한 날씨 정보를 가져옵니다.\n",
    "def get_forecast(state: WeatherState):\n",
    "    forecast = fetch_weather_data(state[\"location\"])    \n",
    "    return {\"forecast\": forecast}\n",
    "\n",
    "# clarify_location: 위치가 모호할 경우 명확화 요청을 생성합니다.\n",
    "def clarify_location(state: WeatherState):\n",
    "    clarification = generate_location_clarification\n",
    "    return {\"query\": clarification}\n",
    "\n",
    "# generate_response: 최종 응답을 생성합니다.\n",
    "def generate_response(state: WeatherState):\n",
    "    clarification = generate_location_clarification(state[\"location\"])\n",
    "    return {\"query\": clarification}\n"
   ]
  },
  {
   "cell_type": "code",
   "execution_count": 43,
   "metadata": {},
   "outputs": [],
   "source": [
    "# 3. 조건부 엣지 함수 정의\n",
    "def check_location(state: WeatherState) -> Literal[\"valid\", \"ambiguous\", \"invalid\"]:\n",
    "    if not state[\"location\"]:\n",
    "        return \"invalid\" # 위치 정보가 없는 경우\n",
    "    elif is_ambiguous(state[\"location\"]):\n",
    "        return \"ambiguous\" # 위치 정보가 모호한 경우\n",
    "    else:\n",
    "        return \"valid\" # 유효한 위치일 경우\n",
    "    "
   ]
  },
  {
   "cell_type": "markdown",
   "metadata": {},
   "source": [
    "1. StateGraph 객체를 생성하여 그래프의 기본 구조를 정의한다.\n",
    "2. add_node로 각 처리 단계(노드)를 그래프에 추가한다.\n",
    "3. set_entry_point로 그래프의 시작점을 설정한다.\n",
    "4. add_conditional_edges로 조건부 라우팅을 정의한다.\n",
    "5. add_edge로 일반적인 순차적 처리 흐름을 정의한다.\n",
    "6. compile로 정의된 그래프를 실행 가능한 형태로 변환한다."
   ]
  },
  {
   "cell_type": "code",
   "execution_count": 44,
   "metadata": {},
   "outputs": [
    {
     "name": "stdout",
     "output_type": "stream",
     "text": [
      "\n"
     ]
    }
   ],
   "source": [
    "print()"
   ]
  }
 ],
 "metadata": {
  "kernelspec": {
   "display_name": "langchain-robot-chatbot",
   "language": "python",
   "name": "python3"
  },
  "language_info": {
   "codemirror_mode": {
    "name": "ipython",
    "version": 3
   },
   "file_extension": ".py",
   "mimetype": "text/x-python",
   "name": "python",
   "nbconvert_exporter": "python",
   "pygments_lexer": "ipython3",
   "version": "3.12.8"
  }
 },
 "nbformat": 4,
 "nbformat_minor": 2
}
