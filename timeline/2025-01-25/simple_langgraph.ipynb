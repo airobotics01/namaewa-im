{
 "cells": [
  {
   "cell_type": "markdown",
   "metadata": {},
   "source": [
    "### LangGraph 만드는 방법"
   ]
  },
  {
   "cell_type": "code",
   "execution_count": 1,
   "metadata": {},
   "outputs": [
    {
     "name": "stdout",
     "output_type": "stream",
     "text": [
      "LangGraph successfully installed!\n",
      "Name: langgraph\n",
      "Version: 0.2.67\n",
      "Summary: Building stateful, multi-actor applications with LLMs\n",
      "Home-page: https://www.github.com/langchain-ai/langgraph\n",
      "Author: \n",
      "Author-email: \n",
      "License: MIT\n",
      "Location: C:\\Users\\tree\\miniconda3\\envs\\langchain-robot-chatbot\\Lib\\site-packages\n",
      "Requires: langchain-core, langgraph-checkpoint, langgraph-sdk\n",
      "Required-by: langchain-teddynote\n",
      "Name: graphviz\n",
      "Version: 0.20.3\n",
      "Summary: Simple Python interface for Graphviz\n",
      "Home-page: https://github.com/xflr6/graphviz\n",
      "Author: Sebastian Bank\n",
      "Author-email: sebastian.bank@uni-leipzig.de\n",
      "License: MIT\n",
      "Location: C:\\Users\\tree\\miniconda3\\envs\\langchain-robot-chatbot\\Lib\\site-packages\n",
      "Requires: \n",
      "Required-by: \n"
     ]
    }
   ],
   "source": [
    "from langgraph.graph import StateGraph\n",
    "\n",
    "print(\"LangGraph successfully installed!\")\n",
    "!pip show langgraph\n",
    "!pip show graphviz"
   ]
  },
  {
   "cell_type": "code",
   "execution_count": 5,
   "metadata": {},
   "outputs": [],
   "source": [
    "from dotenv import load_dotenv\n",
    "# from langchain.chat_models import ChatOpenAI (DeprecationWarning)\n",
    "from langchain_openai import ChatOpenAI\n",
    "import os \n",
    "\n",
    "client_id = os.getenv(\"OPENAI_API_KEY\")\n",
    "\n",
    "if client_id is None:\n",
    "    raise ValueError(\"OPENAI_API_KEY environment variable not set\")\n",
    "\n",
    "gpt4o_mini = ChatOpenAI(\n",
    "    model_name=\"gpt-4o-mini\",\n",
    "    max_tokens=100,\n",
    "    temperature=0.7,\n",
    "    openai_api_key=client_id\n",
    ")\n",
    "\n",
    "gpt4o = ChatOpenAI(\n",
    "    model_name=\"gpt-4o\",\n",
    "    max_tokens=150,\n",
    "    temperature=0.7,\n",
    "    openai_api_key=client_id\n",
    ")"
   ]
  },
  {
   "cell_type": "code",
   "execution_count": 6,
   "metadata": {},
   "outputs": [],
   "source": [
    "response_mini = gpt4o_mini.invoke(\"Hello, how are you?\")"
   ]
  },
  {
   "cell_type": "code",
   "execution_count": 7,
   "metadata": {},
   "outputs": [
    {
     "data": {
      "text/plain": [
       "AIMessage(content=\"Hello! I'm just a computer program, so I don't have feelings, but I'm here and ready to help you. How can I assist you today?\", additional_kwargs={'refusal': None}, response_metadata={'token_usage': {'completion_tokens': 31, 'prompt_tokens': 13, 'total_tokens': 44, 'completion_tokens_details': {'accepted_prediction_tokens': 0, 'audio_tokens': 0, 'reasoning_tokens': 0, 'rejected_prediction_tokens': 0}, 'prompt_tokens_details': {'audio_tokens': 0, 'cached_tokens': 0}}, 'model_name': 'gpt-4o-mini-2024-07-18', 'system_fingerprint': 'fp_72ed7ab54c', 'finish_reason': 'stop', 'logprobs': None}, id='run-093f6712-06d0-47d7-ab0c-aa8f17758a59-0', usage_metadata={'input_tokens': 13, 'output_tokens': 31, 'total_tokens': 44, 'input_token_details': {'audio': 0, 'cache_read': 0}, 'output_token_details': {'audio': 0, 'reasoning': 0}})"
      ]
     },
     "execution_count": 7,
     "metadata": {},
     "output_type": "execute_result"
    }
   ],
   "source": [
    "response_mini"
   ]
  },
  {
   "cell_type": "code",
   "execution_count": 8,
   "metadata": {},
   "outputs": [],
   "source": [
    "# from langchain.schema import HumanMessage\n",
    "\n",
    "# response_full = gpt4o.invoke([HumanMessage(\"Hello, how are you?\")])"
   ]
  },
  {
   "cell_type": "code",
   "execution_count": 9,
   "metadata": {},
   "outputs": [
    {
     "data": {
      "text/plain": [
       "AIMessage(content=\"Hello! I'm just a computer program, so I don't have feelings, but I'm here to help you. How can I assist you today?\", additional_kwargs={'refusal': None}, response_metadata={'token_usage': {'completion_tokens': 29, 'prompt_tokens': 13, 'total_tokens': 42, 'completion_tokens_details': {'accepted_prediction_tokens': 0, 'audio_tokens': 0, 'reasoning_tokens': 0, 'rejected_prediction_tokens': 0}, 'prompt_tokens_details': {'audio_tokens': 0, 'cached_tokens': 0}}, 'model_name': 'gpt-4o-2024-08-06', 'system_fingerprint': 'fp_4691090a87', 'finish_reason': 'stop', 'logprobs': None}, id='run-75984f67-82f0-4c2e-a0f7-4037e158ef5e-0', usage_metadata={'input_tokens': 13, 'output_tokens': 29, 'total_tokens': 42, 'input_token_details': {'audio': 0, 'cache_read': 0}, 'output_token_details': {'audio': 0, 'reasoning': 0}})"
      ]
     },
     "execution_count": 9,
     "metadata": {},
     "output_type": "execute_result"
    }
   ],
   "source": [
    "response_full = gpt4o.invoke(\"Hello, how are you?\")\n",
    "response_full"
   ]
  },
  {
   "cell_type": "code",
   "execution_count": 2,
   "metadata": {},
   "outputs": [],
   "source": [
    "# python의 typing 모듈에서 TypedDict를 가져온다.\n",
    "from typing import TypedDict\n",
    "from langgraph.graph import StateGraph, START, END\n",
    "\n",
    "# MyState라는 이름의 TypedDict를 정의한다.\n",
    "class MyState(TypedDict):\n",
    "    name: str\n",
    "    age: int\n",
    "\n",
    "# MyState 타입의 state를 받아 MyState 타입을 반환하는 함수를 정의한다.\n",
    "def increment_age(state: MyState) -> MyState:\n",
    "    return {\n",
    "        \"name\": state[\"name\"],\n",
    "        \"age\": state[\"age\"] + 1\n",
    "    }\n",
    "\n",
    "# StateGraph 객체를 생성한다.\n",
    "graph = StateGraph(MyState)\n",
    "\n",
    "# add_node를 사용하여 그래프에 노드를 추가한다.\n",
    "graph.add_node(\"increment_age\", increment_age)\n",
    "\n",
    "# 시작 edge를 추가한다.\n",
    "graph.add_edge(START, \"increment_age\")\n",
    "\n",
    "# 종료 edge를 추가한다.\n",
    "graph.add_edge(\"increment_age\", END)\n",
    "\n",
    "# complie()은 정의된 그래프를 실행 가능한 상태로 변환한다.\n",
    "app = graph.compile()\n"
   ]
  },
  {
   "cell_type": "markdown",
   "metadata": {},
   "source": [
    "그래프 시각화 (Graphviz)\n",
    "\n",
    "###### !pip uninstall graphviz\n",
    "###### !conda install graphviz \n",
    "###### 환경변수 설정도 해줘야 함"
   ]
  },
  {
   "cell_type": "code",
   "execution_count": null,
   "metadata": {},
   "outputs": [
    {
     "data": {
      "image/png": "[encoded data removed]",
      "text/plain": [
       "<IPython.core.display.Image object>"
      ]
     },
     "metadata": {},
     "output_type": "display_data"
    }
   ],
   "source": [
    "import graphviz\n",
    "from IPython.display import Image, display\n",
    "\n",
    "dot = graphviz.Digraph()\n",
    "nx_graph = app.get_graph()\n",
    "\n",
    "for node in nx_graph.nodes:\n",
    "    dot.node(node, shape=\"box\")\n",
    "\n",
    "for edge in nx_graph.edges:\n",
    "    dot.edge(edge[0], edge[1])\n",
    "\n",
    "dot.render(\"langgraph_output\", format=\"png\")  # langgraph_output.png로 저장\n",
    "display(Image(filename=\"langgraph_output.png\"))  # Jupyter Notebook에서 출력\n"
   ]
  },
  {
   "cell_type": "markdown",
   "metadata": {},
   "source": [
    "그래프 시각화 v2 (from langchain_teddynote.graphs)"
   ]
  },
  {
   "cell_type": "code",
   "execution_count": 33,
   "metadata": {},
   "outputs": [
    {
     "name": "stdout",
     "output_type": "stream",
     "text": [
      "Name: langchain-teddynote\n",
      "Version: 0.3.42\n",
      "Summary: LangChain Helper Library\n",
      "Home-page: https://github.com/teddylee777/langchain-teddynote\n",
      "Author: Teddy Lee\n",
      "Author-email: teddylee777@gmail.com\n",
      "License: \n",
      "Location: C:\\Users\\tree\\miniconda3\\envs\\langchain-robot-chatbot\\Lib\\site-packages\n",
      "Requires: anthropic, deepl, feedparser, kiwipiepy, langchain, langgraph, olefile, openai, pandas, pdf2image, pinecone-client, pinecone-text, rank-bm25, tavily-python\n",
      "Required-by: \n"
     ]
    }
   ],
   "source": [
    "#!pip install langchain-teddynote\n",
    "!pip show langchain_teddynote"
   ]
  },
  {
   "cell_type": "code",
   "execution_count": 34,
   "metadata": {},
   "outputs": [
    {
     "data": {
      "image/png": "[encoded data removed]",
      "text/plain": [
       "<IPython.core.display.Image object>"
      ]
     },
     "metadata": {},
     "output_type": "display_data"
    }
   ],
   "source": [
    "from langchain_teddynote.graphs import visualize_graph\n",
    "\n",
    "# 그래프 시각화\n",
    "visualize_graph(app)"
   ]
  },
  {
   "cell_type": "markdown",
   "metadata": {},
   "source": [
    "### LangGraph 실행"
   ]
  },
  {
   "cell_type": "code",
   "execution_count": 37,
   "metadata": {},
   "outputs": [
    {
     "data": {
      "text/plain": [
       "{'name': 'Han Ji Sung', 'age': 25}"
      ]
     },
     "execution_count": 37,
     "metadata": {},
     "output_type": "execute_result"
    }
   ],
   "source": [
    "result = app.invoke({\"name\": \"Han Ji Sung\", \"age\": 24})\n",
    "result"
   ]
  }
 ],
 "metadata": {
  "kernelspec": {
   "display_name": "langchain-robot-chatbot",
   "language": "python",
   "name": "python3"
  },
  "language_info": {
   "codemirror_mode": {
    "name": "ipython",
    "version": 3
   },
   "file_extension": ".py",
   "mimetype": "text/x-python",
   "name": "python",
   "nbconvert_exporter": "python",
   "pygments_lexer": "ipython3",
   "version": "3.12.8"
  }
 },
 "nbformat": 4,
 "nbformat_minor": 2
}
