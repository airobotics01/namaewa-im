{
 "cells": [
  {
   "cell_type": "markdown",
   "metadata": {},
   "source": [
    "### PromptTemplate 사용 예시"
   ]
  },
  {
   "cell_type": "code",
   "execution_count": 12,
   "metadata": {},
   "outputs": [
    {
     "name": "stdout",
     "output_type": "stream",
     "text": [
      "You're a chess pro. What's your response to the following FEN? rnbqkbnr/pppppppp/8/8/8/8/PPPPPPPP/RNBQKBNR w KQkq - 0 1\n"
     ]
    }
   ],
   "source": [
    "from langchain_core.prompts import PromptTemplate\n",
    "\n",
    "template = PromptTemplate.from_template(\"You're a chess pro. What's your response to the following FEN? {fen}\")\n",
    "formatted_prompt = template.format(fen=\"rnbqkbnr/pppppppp/8/8/8/8/PPPPPPPP/RNBQKBNR w KQkq - 0 1\")  # 딕셔너리가 아닌 키워드 인자로 전달\n",
    "print(formatted_prompt)\n"
   ]
  },
  {
   "cell_type": "markdown",
   "metadata": {},
   "source": [
    "#### ChatPromptTemplate 사용 예시"
   ]
  },
  {
   "cell_type": "code",
   "execution_count": 14,
   "metadata": {},
   "outputs": [
    {
     "name": "stdout",
     "output_type": "stream",
     "text": [
      "System: You're a chess pro.\n",
      "Human: What's your response to the following FEN? rnbqkbnr/pppppppp/8/8/8/8/PPPPPPPP/RNBQKBNR w KQkq - 0 1\n"
     ]
    }
   ],
   "source": [
    "from langchain_core.prompts import ChatPromptTemplate\n",
    "\n",
    "template = ChatPromptTemplate.from_messages([\n",
    "    (\"system\", \"You're a chess pro.\"),\n",
    "    (\"user\", \"What's your response to the following FEN? {fen}\"),\n",
    "])\n",
    "formatted_prompt = template.format(fen=\"rnbqkbnr/pppppppp/8/8/8/8/PPPPPPPP/RNBQKBNR w KQkq - 0 1\")\n",
    "print(formatted_prompt)\n",
    "# 출력:\n",
    "# System: You are a helpful assistant.\n",
    "# User: Tell me a joke about bears\n"
   ]
  },
  {
   "cell_type": "markdown",
   "metadata": {},
   "source": [
    "#### FewShotPromptTemplate 사용 예시"
   ]
  },
  {
   "cell_type": "code",
   "execution_count": 15,
   "metadata": {},
   "outputs": [
    {
     "name": "stdout",
     "output_type": "stream",
     "text": [
      "You're a chess pro. Given a FEN, suggest the best move:\n",
      "\n",
      "FEN: rnbqkbnr/pppppppp/8/8/8/8/PPPPPPPP/RNBQKBNR w KQkq - 0 1\n",
      "Best move: Best move: e2e4\n",
      "\n",
      "FEN: r1bq1rk1/pppp1ppp/2n2n2/2b1p3/2B1P3/2N2N2/PPPP1PPP/R1BQ1RK1 w - - 4 6\n",
      "Best move: Best move: d2d4\n",
      "\n",
      "FEN: 6k1/5ppp/8/8/8/8/5PPP/5RK1 w - - 0 1\n",
      "Best move:\n"
     ]
    },
    {
     "data": {
      "text/plain": [
       "\"\\nYou're a chess pro. Given a FEN, suggest the best move:\\n\\nFEN: rnbqkbnr/pppppppp/8/8/8/8/PPPPPPPP/RNBQKBNR w KQkq - 0 1\\nBest move: e2e4\\n\\nFEN: r1bq1rk1/pppp1ppp/2n2n2/2b1p3/2B1P3/2N2N2/PPPP1PPP/R1BQ1RK1 w - - 4 6\\nBest move: d2d4\\n\\nFEN: 6k1/5ppp/8/8/8/8/5PPP/5RK1 w - - 0 1\\nBest move:\\n\""
      ]
     },
     "execution_count": 15,
     "metadata": {},
     "output_type": "execute_result"
    }
   ],
   "source": [
    "from langchain_core.prompts import FewShotPromptTemplate, PromptTemplate\n",
    "\n",
    "# 체스 FEN 예제와 최적의 수\n",
    "examples = [\n",
    "    {\"input\": \"rnbqkbnr/pppppppp/8/8/8/8/PPPPPPPP/RNBQKBNR w KQkq - 0 1\", \n",
    "     \"output\": \"Best move: e2e4\"},\n",
    "    {\"input\": \"r1bq1rk1/pppp1ppp/2n2n2/2b1p3/2B1P3/2N2N2/PPPP1PPP/R1BQ1RK1 w - - 4 6\", \n",
    "     \"output\": \"Best move: d2d4\"}\n",
    "]\n",
    "\n",
    "# 예제 템플릿 정의\n",
    "example_prompt = PromptTemplate.from_template(\"FEN: {input}\\nBest move: {output}\")\n",
    "\n",
    "# FewShotPromptTemplate 생성\n",
    "template = FewShotPromptTemplate(\n",
    "    examples=examples,\n",
    "    example_prompt=example_prompt,\n",
    "    prefix=\"You're a chess pro. Given a FEN, suggest the best move:\",\n",
    "    suffix=\"FEN: {fen}\\nBest move:\",\n",
    "    example_separator=\"\\n\\n\"\n",
    ")\n",
    "\n",
    "# format() 메서드를 사용하여 FEN 전달\n",
    "formatted_prompt = template.format(fen=\"6k1/5ppp/8/8/8/8/5PPP/5RK1 w - - 0 1\")\n",
    "print(formatted_prompt)\n",
    "\n",
    "'''\n",
    "You're a chess pro. Given a FEN, suggest the best move:\n",
    "\n",
    "FEN: rnbqkbnr/pppppppp/8/8/8/8/PPPPPPPP/RNBQKBNR w KQkq - 0 1\n",
    "Best move: e2e4\n",
    "\n",
    "FEN: r1bq1rk1/pppp1ppp/2n2n2/2b1p3/2B1P3/2N2N2/PPPP1PPP/R1BQ1RK1 w - - 4 6\n",
    "Best move: d2d4\n",
    "\n",
    "FEN: 6k1/5ppp/8/8/8/8/5PPP/5RK1 w - - 0 1\n",
    "Best move:\n",
    "'''"
   ]
  },
  {
   "cell_type": "markdown",
   "metadata": {},
   "source": [
    "### yml 파일로 prompt 불러오기"
   ]
  },
  {
   "cell_type": "code",
   "execution_count": 4,
   "metadata": {},
   "outputs": [
    {
     "data": {
      "text/plain": [
       "'\\nmessages:\\n  - role: system\\n    content: \"You are a chess pro.\"\\n  - role: human\\n    content: \"Given the following FEN position, suggest the best move.\\nFEN: {fen}\"\\n  - role: ai\\n    content: \"The best move for {fen} is:\"\\n'"
      ]
     },
     "execution_count": 4,
     "metadata": {},
     "output_type": "execute_result"
    }
   ],
   "source": [
    "'''\n",
    "messages:\n",
    "  - role: system\n",
    "    content: \"You are a chess pro.\"\n",
    "  - role: human\n",
    "    content: \"Given the following FEN position, suggest the best move.\\nFEN: {fen}\"\n",
    "  - role: ai\n",
    "    content: \"The best move for {fen} is:\"\n",
    "'''"
   ]
  },
  {
   "cell_type": "code",
   "execution_count": 5,
   "metadata": {},
   "outputs": [
    {
     "name": "stdout",
     "output_type": "stream",
     "text": [
      "{'messages': [{'role': 'system', 'content': 'You are a chess pro.'}, {'role': 'human', 'content': 'Given the following FEN position, suggest the best move.\\nFEN: {fen}'}, {'role': 'ai', 'content': 'The best move for {fen} is:'}]}\n",
      "System: You are a chess pro.\n",
      "Human: Given the following FEN position, suggest the best move.\n",
      "FEN: rnbqkbnr/pppppppp/8/8/8/8/PPPPPPPP/RNBQKBNR w KQkq - 0 1\n",
      "AI: The best move for rnbqkbnr/pppppppp/8/8/8/8/PPPPPPPP/RNBQKBNR w KQkq - 0 1 is:\n"
     ]
    }
   ],
   "source": [
    "import yaml\n",
    "from langchain_core.prompts import ChatPromptTemplate\n",
    "\n",
    "# YAML 파일 읽기\n",
    "with open(\"prompt_template.yaml\", \"r\")as file:\n",
    "    yaml_content = yaml.safe_load(file)\n",
    "\n",
    "# YAML 내용 출력\n",
    "print(yaml_content)\n",
    "\n",
    "# ChatPromptTemplate 생성\n",
    "template = ChatPromptTemplate.from_messages(\n",
    "    [(message['role'], message['content'])for message in yaml_content['messages']]\n",
    ")\n",
    "\n",
    "# 포맷팅된 프롬프트 생성\n",
    "formatted_prompt = template.format(fen= \"rnbqkbnr/pppppppp/8/8/8/8/PPPPPPPP/RNBQKBNR w KQkq - 0 1\")\n",
    "print(formatted_prompt)\n"
   ]
  }
 ],
 "metadata": {
  "kernelspec": {
   "display_name": "langchain-robot-chatbot",
   "language": "python",
   "name": "python3"
  },
  "language_info": {
   "codemirror_mode": {
    "name": "ipython",
    "version": 3
   },
   "file_extension": ".py",
   "mimetype": "text/x-python",
   "name": "python",
   "nbconvert_exporter": "python",
   "pygments_lexer": "ipython3",
   "version": "3.12.8"
  }
 },
 "nbformat": 4,
 "nbformat_minor": 2
}
